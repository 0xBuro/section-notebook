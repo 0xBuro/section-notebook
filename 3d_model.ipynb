{
 "cells": [
  {
   "cell_type": "raw",
   "metadata": {},
   "source": [
    "---\n",
    "title: \"3D model Jupyter Notebook\"\n",
    "jupyter: python3\n",
    "execute:\n",
    "  echo: false\n",
    "  output: asis\n",
    "---"
   ]
  },
  {
   "attachments": {},
   "cell_type": "markdown",
   "id": "bd2c1006",
   "metadata": {},
   "source": [
    "## 3D model\n",
    "\n",
    "This page shows a 3D model .stl file using the numpy-stl Python library found at https://pypi.org/project/numpy-stl/. This converts a .stl file to matplotlib and then displays as HTML."
   ]
  },
  {
   "cell_type": "code",
   "execution_count": 42,
   "id": "eae3a22f",
   "metadata": {},
   "outputs": [
    {
     "data": {
      "text/plain": [
       "<Figure size 640x480 with 0 Axes>"
      ]
     },
     "metadata": {},
     "output_type": "display_data"
    }
   ],
   "source": [
    "from stl import mesh\n",
    "from mpl_toolkits import mplot3d\n",
    "import matplotlib.pyplot as plt\n",
    "%matplotlib inline\n",
    "\n",
    "# Create a new plot\n",
    "figure = plt.figure()\n",
    "axes = mplot3d.Axes3D(figure)\n",
    "\n",
    "# Load the STL files and add the vectors to the plot\n",
    "your_mesh = mesh.Mesh.from_file('Stanford_Bunny.stl')\n",
    "axes.add_collection3d(mplot3d.art3d.Poly3DCollection(your_mesh.vectors))\n",
    "\n",
    "# Auto scale to the mesh size\n",
    "scale = your_mesh.points.flatten()\n",
    "axes.auto_scale_xyz(scale, scale, scale)\n",
    "\n",
    "# Show the plot to the screen\n",
    "plt.show()"
   ]
  }
 ],
 "metadata": {
  "kernelspec": {
   "display_name": "Python 3.10.8 64-bit",
   "language": "python",
   "name": "python3"
  },
  "language_info": {
   "codemirror_mode": {
    "name": "ipython",
    "version": 3
   },
   "file_extension": ".py",
   "mimetype": "text/x-python",
   "name": "python",
   "nbconvert_exporter": "python",
   "pygments_lexer": "ipython3",
   "version": "3.10.8"
  },
  "vscode": {
   "interpreter": {
    "hash": "aee8b7b246df8f9039afb4144a1f6fd8d2ca17a180786b69acc140d282b71a49"
   }
  }
 },
 "nbformat": 4,
 "nbformat_minor": 5
}

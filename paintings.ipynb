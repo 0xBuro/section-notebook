{
 "cells": [
  {
   "cell_type": "raw",
   "metadata": {},
   "source": [
    "---\n",
    "title: \"Activity B: Paintings catalogue in Jupyter Notebook\"\n",
    "jupyter: python3\n",
    "execute:\n",
    "  echo: false\n",
    "  output: asis\n",
    "---"
   ]
  },
  {
   "attachments": {},
   "cell_type": "markdown",
   "id": "97bccdc4",
   "metadata": {},
   "source": [
    "Objective: Make a selection of nine paintings for the exhibition catalogue to be selected from Wikidata and rendered multi-format in Quarto."
   ]
  },
  {
   "attachments": {},
   "cell_type": "markdown",
   "id": "bd2c1006",
   "metadata": {},
   "source": [
    "The below Python code uses SPARQLWrapper to retrieve data from Wikidata based on a SPARQL query."
   ]
  },
  {
   "cell_type": "code",
   "execution_count": 3,
   "id": "eae3a22f",
   "metadata": {},
   "outputs": [
    {
     "name": "stdout",
     "output_type": "stream",
     "text": [
      "{'head': {'vars': ['item', 'itemLabel', 'inceptionyear', 'creator', 'creatorLabel', 'copyright', 'copyrightLabel', 'image']}, 'results': {'bindings': [{'item': {'type': 'uri', 'value': 'http://www.wikidata.org/entity/Q29903522'}, 'creator': {'type': 'uri', 'value': 'http://www.wikidata.org/entity/Q2557532'}, 'copyright': {'type': 'uri', 'value': 'http://www.wikidata.org/entity/Q19652'}, 'image': {'type': 'uri', 'value': 'http://commons.wikimedia.org/wiki/Special:FilePath/Roelof%20Jansz.%20van%20Vries%20-%20Bauernhaus%20unter%20B%C3%A4umen%20-%204821%20-%20Bavarian%20State%20Painting%20Collections.jpg'}, 'inceptionyear': {'datatype': 'http://www.w3.org/2001/XMLSchema#integer', 'type': 'literal', 'value': '1665'}, 'itemLabel': {'type': 'literal', 'value': 'Q29903522'}, 'creatorLabel': {'xml:lang': 'en', 'type': 'literal', 'value': 'Roelof Jansz van Vries'}, 'copyrightLabel': {'xml:lang': 'en', 'type': 'literal', 'value': 'public domain'}}, {'item': {'type': 'uri', 'value': 'http://www.wikidata.org/entity/Q29903550'}, 'creator': {'type': 'uri', 'value': 'http://www.wikidata.org/entity/Q335022'}, 'copyright': {'type': 'uri', 'value': 'http://www.wikidata.org/entity/Q19652'}, 'image': {'type': 'uri', 'value': 'http://commons.wikimedia.org/wiki/Special:FilePath/David%20Teniers%20d.%20J.%20-%20Bauernschenke%20-%205290%20-%20Bavarian%20State%20Painting%20Collections.jpg'}, 'inceptionyear': {'datatype': 'http://www.w3.org/2001/XMLSchema#integer', 'type': 'literal', 'value': '1633'}, 'itemLabel': {'type': 'literal', 'value': 'Q29903550'}, 'creatorLabel': {'xml:lang': 'en', 'type': 'literal', 'value': 'David Teniers the Younger'}, 'copyrightLabel': {'xml:lang': 'en', 'type': 'literal', 'value': 'public domain'}}, {'item': {'type': 'uri', 'value': 'http://www.wikidata.org/entity/Q29903556'}, 'creator': {'type': 'uri', 'value': 'http://www.wikidata.org/entity/Q874537'}, 'copyright': {'type': 'uri', 'value': 'http://www.wikidata.org/entity/Q19652'}, 'image': {'type': 'uri', 'value': 'http://commons.wikimedia.org/wiki/Special:FilePath/Pieter%20Jansz%20Quast%20%28%5E%29%20-%20Bauernschl%C3%A4gerei%20-%205930%20-%20Bavarian%20State%20Painting%20Collections.jpg'}, 'inceptionyear': {'datatype': 'http://www.w3.org/2001/XMLSchema#integer', 'type': 'literal', 'value': '1626'}, 'itemLabel': {'type': 'literal', 'value': 'Q29903556'}, 'creatorLabel': {'xml:lang': 'en', 'type': 'literal', 'value': 'Pieter Quast'}, 'copyrightLabel': {'xml:lang': 'en', 'type': 'literal', 'value': 'public domain'}}, {'item': {'type': 'uri', 'value': 'http://www.wikidata.org/entity/Q29903569'}, 'creator': {'type': 'uri', 'value': 'http://www.wikidata.org/entity/Q514074'}, 'copyright': {'type': 'uri', 'value': 'http://www.wikidata.org/entity/Q19652'}, 'image': {'type': 'uri', 'value': 'http://commons.wikimedia.org/wiki/Special:FilePath/Jan%20Wynants%20%28%5E%29%20-%20Baumlandschaft%20-%206594%20-%20Bavarian%20State%20Painting%20Collections.jpg'}, 'inceptionyear': {'datatype': 'http://www.w3.org/2001/XMLSchema#integer', 'type': 'literal', 'value': '1658'}, 'itemLabel': {'xml:lang': 'en', 'type': 'literal', 'value': 'Wooded Landscape'}, 'creatorLabel': {'xml:lang': 'en', 'type': 'literal', 'value': 'Jan Wijnants'}, 'copyrightLabel': {'xml:lang': 'en', 'type': 'literal', 'value': 'public domain'}}, {'item': {'type': 'uri', 'value': 'http://www.wikidata.org/entity/Q29903572'}, 'creator': {'type': 'uri', 'value': 'http://www.wikidata.org/entity/Q2557532'}, 'copyright': {'type': 'uri', 'value': 'http://www.wikidata.org/entity/Q19652'}, 'image': {'type': 'uri', 'value': 'http://commons.wikimedia.org/wiki/Special:FilePath/Roelof%20Jansz.%20van%20Vries%20-%20Baumlandschaft%20mit%20Bauernh%C3%BCtte%20-%208115%20-%20Bavarian%20State%20Painting%20Collections.jpg'}, 'inceptionyear': {'datatype': 'http://www.w3.org/2001/XMLSchema#integer', 'type': 'literal', 'value': '1665'}, 'itemLabel': {'type': 'literal', 'value': 'Q29903572'}, 'creatorLabel': {'xml:lang': 'en', 'type': 'literal', 'value': 'Roelof Jansz van Vries'}, 'copyrightLabel': {'xml:lang': 'en', 'type': 'literal', 'value': 'public domain'}}, {'item': {'type': 'uri', 'value': 'http://www.wikidata.org/entity/Q29903575'}, 'creator': {'type': 'uri', 'value': 'http://www.wikidata.org/entity/Q2627622'}, 'copyright': {'type': 'uri', 'value': 'http://www.wikidata.org/entity/Q19652'}, 'image': {'type': 'uri', 'value': 'http://commons.wikimedia.org/wiki/Special:FilePath/Alexander%20Keirincx%20-%20Baumlandschaft%20mit%20Ruhe%20auf%20der%20Flucht%20nach%20%C3%84gypten%20-%206304%20-%20Bavarian%20State%20Painting%20Collections.jpg'}, 'inceptionyear': {'datatype': 'http://www.w3.org/2001/XMLSchema#integer', 'type': 'literal', 'value': '1620'}, 'itemLabel': {'xml:lang': 'en', 'type': 'literal', 'value': 'Forest scenery with the flight to Egypt'}, 'creatorLabel': {'xml:lang': 'en', 'type': 'literal', 'value': 'Alexander Keirincx'}, 'copyrightLabel': {'xml:lang': 'en', 'type': 'literal', 'value': 'public domain'}}, {'item': {'type': 'uri', 'value': 'http://www.wikidata.org/entity/Q29903600'}, 'creator': {'type': 'uri', 'value': 'http://www.wikidata.org/entity/Q109061'}, 'copyright': {'type': 'uri', 'value': 'http://www.wikidata.org/entity/Q19652'}, 'image': {'type': 'uri', 'value': 'http://commons.wikimedia.org/wiki/Special:FilePath/Guido%20Reni%20%28Kopie%20nach%29%20-%20Beatrice%20Cenci%20-%203628%20-%20Bavarian%20State%20Painting%20Collections.jpg'}, 'inceptionyear': {'datatype': 'http://www.w3.org/2001/XMLSchema#integer', 'type': 'literal', 'value': '1608'}, 'itemLabel': {'type': 'literal', 'value': 'Q29903600'}, 'creatorLabel': {'xml:lang': 'en', 'type': 'literal', 'value': 'Guido Reni'}, 'copyrightLabel': {'xml:lang': 'en', 'type': 'literal', 'value': 'public domain'}}, {'item': {'type': 'uri', 'value': 'http://www.wikidata.org/entity/Q29903622'}, 'creator': {'type': 'uri', 'value': 'http://www.wikidata.org/entity/Q1296913'}, 'copyright': {'type': 'uri', 'value': 'http://www.wikidata.org/entity/Q19652'}, 'image': {'type': 'uri', 'value': 'http://commons.wikimedia.org/wiki/Special:FilePath/Egbert%20van%20Heemskerck%20-%20Beim%20Makler%20-%202111%20-%20Bavarian%20State%20Painting%20Collections.jpg'}, 'inceptionyear': {'datatype': 'http://www.w3.org/2001/XMLSchema#integer', 'type': 'literal', 'value': '1669'}, 'itemLabel': {'type': 'literal', 'value': 'Q29903622'}, 'creatorLabel': {'xml:lang': 'en', 'type': 'literal', 'value': 'Egbert van Heemskerk'}, 'copyrightLabel': {'xml:lang': 'en', 'type': 'literal', 'value': 'public domain'}}, {'item': {'type': 'uri', 'value': 'http://www.wikidata.org/entity/Q29903662'}, 'creator': {'type': 'uri', 'value': 'http://www.wikidata.org/entity/Q2644710'}, 'copyright': {'type': 'uri', 'value': 'http://www.wikidata.org/entity/Q19652'}, 'image': {'type': 'uri', 'value': 'http://commons.wikimedia.org/wiki/Special:FilePath/Adriaen%20Frans%20Boudewyns%20-%20Bergige%20Landschaft%20-%2010359%20-%20Bavarian%20State%20Painting%20Collections.jpg'}, 'inceptionyear': {'datatype': 'http://www.w3.org/2001/XMLSchema#integer', 'type': 'literal', 'value': '1677'}, 'itemLabel': {'type': 'literal', 'value': 'Q29903662'}, 'creatorLabel': {'xml:lang': 'en', 'type': 'literal', 'value': 'Adriaen Frans Boudewyns'}, 'copyrightLabel': {'xml:lang': 'en', 'type': 'literal', 'value': 'public domain'}}]}}\n"
     ]
    }
   ],
   "source": [
    "from SPARQLWrapper import SPARQLWrapper, JSON\n",
    "from PIL import Image\n",
    "import requests\n",
    "\n",
    "# VARIABLES\n",
    "\n",
    "sparql_endpoint_url = 'https://query.wikidata.org/bigdata/namespace/wdq/sparql'\n",
    "wikibase_url = 'https://www.wikidata.org'\n",
    "api_url = '/w/api.php'\n",
    "\n",
    "# Wikidata requires a user agent header to prevent spam requests\n",
    "user_agent = 'Ex_Books_conference_bot/0.0 (https://github.com/SimonXIX/Experimental_Books_workshop; ad7588@coventry.ac.uk)'\n",
    "\n",
    "# SPARQL query\n",
    "# see in Wikidata's Query Service GUI at:\n",
    "# https://query.wikidata.org/#%23defaultView%3AImageGrid%0ASELECT%20%3Fitem%20%3FitemLabel%20%3Finceptionyear%20%3Fcreator%20%3FcreatorLabel%20%3Fcopyright%20%3FcopyrightLabel%20%3Fimage%0AWHERE%0A%7B%0A%20%20%23%20find%20items%20which%3A%0A%20%20%23%20are%20instances%20of%20%28wdt%3AP31%29%20paintings%20%28wd%3AQ3305213%29%0A%20%20%23%20have%20the%20property%20%28wdt%3AP195%29%20of%20being%20in%20collection%20wd%3AQ812285%20%28Bavarian%20State%20Painting%20Collections%20https%3A%2F%2Fwww.wikidata.org%2Fwiki%2FWikidata%3AWikiProject_sum_of_all_paintings%2FCollection%2FBavarian_State_Painting_Collections%29%0A%20%20%3Fitem%20wdt%3AP31%20wd%3AQ3305213%20.%0A%20%20%3Fitem%20wdt%3AP195%20wd%3AQ812285%20.%0A%20%20%23%20get%20the%20item%27s%20creator%20property%20%28wdt%3AP170%29%0A%20%20%3Fitem%20wdt%3AP170%20%3Fcreator%20.%0A%20%20%23%20get%20the%20item%27s%20image%20property%20%28wdt%3AP18%29%0A%20%20%3Fitem%20wdt%3AP18%20%3Fimage%20.%0A%20%20%23%20get%20the%20item%27s%20copyright%20status%20%28wdt%3AP6216%29%0A%20%20%3Fitem%20wdt%3AP6216%20%3Fcopyright%20.%20%0A%20%20%20%20%7B%0A%20%20%20%20%3Fitem%20wdt%3AP571%20%3Finception.%0A%20%20%20%20BIND%28YEAR%28%3Finception%29%20AS%20%3Finceptionyear%29%0A%20%20%7D%0A%20%20UNION%0A%20%20%7B%0A%20%20%20%20MINUS%20%7B%20%3Fitem%20wdt%3AP571%20_%3Ab30.%20%7D%0A%20%20%20%20%3Fitem%20wdt%3AP170%20%3Fcreator.%0A%20%20%20%20%3Fcreator%20wdt%3AP569%20%3Fdob%3B%0A%20%20%20%20%20%20wdt%3AP570%20%3Fdod.%0A%20%20%20%20BIND%28%28%28%28YEAR%28%3Fdod%29%29%20-%20%28YEAR%28%3Fdob%29%29%29%20%2F%202%20%29%20%2B%20%28YEAR%28%3Fdob%29%29%20AS%20%3Finceptionyear%29%0A%20%20%7D%0A%20%20UNION%0A%20%20%7B%0A%20%20%20%20MINUS%20%7B%20%3Fitem%20wdt%3AP571%20_%3Ab31.%20%7D%0A%20%20%20%20%3Fitem%20wdt%3AP170%20%3Fcreator.%0A%20%20%20%20MINUS%20%7B%20%3Fcreator%20wdt%3AP570%20_%3Ab32.%20%7D%0A%20%20%20%20%3Fcreator%20wdt%3AP569%20%3Fdob.%0A%20%20%20%20BIND%28%28YEAR%28%3Fdob%29%29%20%2B%2050%20%20AS%20%3Finceptionyear%29%0A%20%20%7D%0A%20%20%23%20filter%20out%20all%20paintings%20not%20created%20between%20the%20years%201600%20and%201700%0A%20%20FILTER%28%281600%20%20%3C%3D%20%3Finceptionyear%29%20%26%26%20%28%3Finceptionyear%20%3C%201700%20%29%29%0A%20%20SERVICE%20wikibase%3Alabel%20%7B%20bd%3AserviceParam%20wikibase%3Alanguage%20%22%5BAUTO_LANGUAGE%5D%22.%20%7D%20%7D%0A%23%20limit%20to%20nine%20results%0ALIMIT%209\n",
    "query = \"\"\"\n",
    "#defaultView:ImageGrid\n",
    "SELECT ?item ?itemLabel ?inceptionyear ?creator ?creatorLabel ?copyright ?copyrightLabel ?image\n",
    "WHERE\n",
    "{\n",
    "  # find items which:\n",
    "  # are instances of (wdt:P31) paintings (wd:Q3305213)\n",
    "  # have the property (wdt:P195) of being in collection wd:Q812285 (Bavarian State Painting Collections https://www.wikidata.org/wiki/Wikidata:WikiProject_sum_of_all_paintings/Collection/Bavarian_State_Painting_Collections)\n",
    "  ?item wdt:P31 wd:Q3305213 .\n",
    "  ?item wdt:P195 wd:Q812285 .\n",
    "  # get the item's creator property (wdt:P170)\n",
    "  ?item wdt:P170 ?creator .\n",
    "  # get the item's image property (wdt:P18)\n",
    "  ?item wdt:P18 ?image .\n",
    "  # get the item's copyright status (wdt:P6216)\n",
    "  ?item wdt:P6216 ?copyright . \n",
    "    {\n",
    "    ?item wdt:P571 ?inception.\n",
    "    BIND(YEAR(?inception) AS ?inceptionyear)\n",
    "  }\n",
    "  UNION\n",
    "  {\n",
    "    MINUS { ?item wdt:P571 _:b30. }\n",
    "    ?item wdt:P170 ?creator.\n",
    "    ?creator wdt:P569 ?dob;\n",
    "      wdt:P570 ?dod.\n",
    "    BIND((((YEAR(?dod)) - (YEAR(?dob))) / 2 ) + (YEAR(?dob)) AS ?inceptionyear)\n",
    "  }\n",
    "  UNION\n",
    "  {\n",
    "    MINUS { ?item wdt:P571 _:b31. }\n",
    "    ?item wdt:P170 ?creator.\n",
    "    MINUS { ?creator wdt:P570 _:b32. }\n",
    "    ?creator wdt:P569 ?dob.\n",
    "    BIND((YEAR(?dob)) + 50  AS ?inceptionyear)\n",
    "  }\n",
    "  # filter out all paintings not created between the years 1600 and 1700\n",
    "  FILTER((1600  <= ?inceptionyear) && (?inceptionyear < 1700 ))\n",
    "  SERVICE wikibase:label { bd:serviceParam wikibase:language \"en\". } }\n",
    "# limit to nine results\n",
    "LIMIT 9\n",
    "\"\"\"\n",
    "\n",
    "# SUBROUTINES\n",
    "\n",
    "def get_delay(date):\n",
    "    try:\n",
    "        date = datetime.datetime.strptime(date, '%a, %d %b %Y %H:%M:%S GMT')\n",
    "        timeout = int((date - datetime.datetime.now()).total_seconds())\n",
    "    except ValueError:\n",
    "        timeout = int(date)\n",
    "    return timeout\n",
    "\n",
    "def get_image(url, headers):\n",
    "    r = requests.get(url, headers=headers, stream=True)\n",
    "    if r.status_code == 200:\n",
    "        im = Image.open(r.raw)\n",
    "        return im\n",
    "    if r.status_code == 500:\n",
    "        return None\n",
    "    if r.status_code == 403:\n",
    "        return None\n",
    "    if r.status_code == 429:\n",
    "        timeout = get_delay(r.headers['retry-after'])\n",
    "        print('Timeout {} m {} s'.format(timeout // 60, timeout % 60))\n",
    "        time.sleep(timeout)\n",
    "        get_image(url, headers)\n",
    "\n",
    "# MAIN PROGRAM\n",
    "\n",
    "# create SPARQL query\n",
    "sparql = SPARQLWrapper(sparql_endpoint_url, agent=user_agent)\n",
    "\n",
    "# retrieve results and convert to JSON format\n",
    "sparql.setQuery(query)\n",
    "sparql.setReturnFormat(JSON)\n",
    "result = sparql.query().convert()\n",
    "\n",
    "# for each result, print various data fields\n",
    "for item in result['results']['bindings']:\n",
    "    print('Wikidata link: ' + '[' + item['item']['value'] + ']' + '(' + item['item']['value'] + ')' + '\\n')\n",
    "    print('Title: ' + item['itemLabel']['value'] + '\\n')\n",
    "    print('Year: ' + item['inceptionyear']['value'] + '\\n')\n",
    "    print('Creator: ' + item['creatorLabel']['value'] + '\\n')\n",
    "    print('Copyright: ' + item['copyrightLabel']['value'] + '\\n')\n",
    "\n",
    "    # get image from image URL and display resized version\n",
    "    image_url=item['image']['value']\n",
    "    headers = {'User-Agent': 'Ex_Books_conference_bot/0.0 (https://github.com/SimonXIX/Experimental_Books_workshop; ad7588@coventry.ac.uk)'}\n",
    "    im = get_image(image_url, headers)\n",
    "    im.thumbnail((500, 500), Image.Resampling.LANCZOS)\n",
    "    display(im)\n",
    "    print('\\n\\n')"
   ]
  }
 ],
 "metadata": {
  "kernelspec": {
   "display_name": "Python 3.10.8 64-bit",
   "language": "python",
   "name": "python3"
  },
  "language_info": {
   "codemirror_mode": {
    "name": "ipython",
    "version": 3
   },
   "file_extension": ".py",
   "mimetype": "text/x-python",
   "name": "python",
   "nbconvert_exporter": "python",
   "pygments_lexer": "ipython3",
   "version": "3.10.8"
  },
  "vscode": {
   "interpreter": {
    "hash": "aee8b7b246df8f9039afb4144a1f6fd8d2ca17a180786b69acc140d282b71a49"
   }
  }
 },
 "nbformat": 4,
 "nbformat_minor": 5
}

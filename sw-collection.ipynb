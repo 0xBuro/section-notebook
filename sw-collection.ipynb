{
 "cells": [
  {
   "cell_type": "raw",
   "metadata": {},
   "source": [
    "---\n",
    "title: \"Custom Collection - SW\"\n",
    "jupyter: python3\n",
    "execute:\n",
    "  echo: false\n",
    "  output: asis\n",
    "---"
   ]
  },
  {
   "attachments": {},
   "cell_type": "markdown",
   "metadata": {},
   "source": [
    "Custom Collection by Simon Worthington (April 23): Paintings by Lucas Cranach the Elder https://www.wikidata.org/wiki/Q191748.\n",
    "\n",
    "The collection Notebook only contains the SPARQL query and needs additional Python adding to parse the metadata output."
   ]
  },
  {
   "cell_type": "code",
   "execution_count": null,
   "metadata": {},
   "outputs": [
    {
     "name": "stdout",
     "output_type": "stream",
     "text": [
      "{'item': {'type': 'uri', 'value': 'http://www.wikidata.org/entity/Q20552282'}, 'pic': {'type': 'uri', 'value': 'http://commons.wikimedia.org/wiki/Special:FilePath/Lucas%20Cranach%20d.%C3%84.%20-%20Madonna%20mit%20dem%20Jesuskind%20und%20dem%20heiligen%20Johannes%20%28ca.1512-14%2C%20Statens%20Museum%20for%20Kunst%29.jpg'}}\n",
      "{'item': {'type': 'uri', 'value': 'http://www.wikidata.org/entity/Q20729896'}, 'pic': {'type': 'uri', 'value': 'http://commons.wikimedia.org/wiki/Special:FilePath/Lucas%20Cranach%20the%20Elder%20-%20Adam%20and%20Eve%20-%20Google%20Art%20Project.jpg'}}\n",
      "{'item': {'type': 'uri', 'value': 'http://www.wikidata.org/entity/Q20776436'}, 'pic': {'type': 'uri', 'value': 'http://commons.wikimedia.org/wiki/Special:FilePath/Lucas%20Cranach%2C%20the%20Elder%20-%20vanhempi%20-%20den%20%C3%A4ldre%20%281472%28%3F%29%E2%80%931553%29-%20Portrait%20of%20a%20Young%20Woman%20-%20Nuoren%20naisen%20muotokuva%20-%20Portr%C3%A4tt%20av%20en%20ung%20kvinna%20%2829433104736%29.jpg'}}\n",
      "{'item': {'type': 'uri', 'value': 'http://www.wikidata.org/entity/Q20779069'}, 'pic': {'type': 'uri', 'value': 'http://commons.wikimedia.org/wiki/Special:FilePath/Lucas%20Cranach%20d.%C3%84.%20-%20Lucretia%20%281530%2C%20Sinebrychoffin%20Taidemuseo%2C%20Helsinki%29.jpg'}}\n",
      "{'item': {'type': 'uri', 'value': 'http://www.wikidata.org/entity/Q20808786'}, 'pic': {'type': 'uri', 'value': 'http://commons.wikimedia.org/wiki/Special:FilePath/Lucas%20Cranach%20d.%C3%84.%20-%20Portr%C3%A4t%20Kurf%C3%BCrst%20Joachim%20II.jpg'}}\n",
      "{'item': {'type': 'uri', 'value': 'http://www.wikidata.org/entity/Q20828882'}, 'pic': {'type': 'uri', 'value': 'http://commons.wikimedia.org/wiki/Special:FilePath/Lucas%20Cranach%20-%20Der%20Jungbrunnen%20%28Gem%C3%A4ldegalerie%20Berlin%29.jpg'}}\n",
      "{'item': {'type': 'uri', 'value': 'http://www.wikidata.org/entity/Q20890826'}, 'pic': {'type': 'uri', 'value': 'http://commons.wikimedia.org/wiki/Special:FilePath/Lucas%20Cranach%20d.%C3%84.%20-%20Bildnis%20der%20Anna%20B%C3%BCchner.jpg'}}\n",
      "{'item': {'type': 'uri', 'value': 'http://www.wikidata.org/entity/Q20890827'}, 'pic': {'type': 'uri', 'value': 'http://commons.wikimedia.org/wiki/Special:FilePath/Lucas%20Cranach%20d.%C3%84.%20-%20Bildnis%20des%20Moritz%20B%C3%BCchner.jpg'}}\n",
      "{'item': {'type': 'uri', 'value': 'http://www.wikidata.org/entity/Q20891074'}, 'pic': {'type': 'uri', 'value': 'http://commons.wikimedia.org/wiki/Special:FilePath/Lucas%20Cranach%20d.%C3%84.%20-%20Madonna%20und%20Kind%20mit%20Trauben%20%28Minneapolis%20Institute%20of%20Art%29.jpg'}}\n",
      "{'item': {'type': 'uri', 'value': 'http://www.wikidata.org/entity/Q20891761'}, 'pic': {'type': 'uri', 'value': 'http://commons.wikimedia.org/wiki/Special:FilePath/Follower%20of%20Lucas%20Cranach%20the%20Elder%20-%20The%20Crucifixion%20-%202007.62a%2Cb%20-%20Minneapolis%20Institute%20of%20Arts.jpg'}}\n",
      "{'item': {'type': 'uri', 'value': 'http://www.wikidata.org/entity/Q21036112'}, 'pic': {'type': 'uri', 'value': 'http://commons.wikimedia.org/wiki/Special:FilePath/Lucas%20Cranach%20d.%20%C3%84.%20-%20Quellnymphe%20%28Museo%20Thyssen-Bornemisza%29.jpg'}}\n",
      "{'item': {'type': 'uri', 'value': 'http://www.wikidata.org/entity/Q21081454'}, 'pic': {'type': 'uri', 'value': 'http://commons.wikimedia.org/wiki/Special:FilePath/Lucas%20Cranach%20d.%20%C3%84.%20072.jpg'}}\n",
      "{'item': {'type': 'uri', 'value': 'http://www.wikidata.org/entity/Q21594957'}, 'pic': {'type': 'uri', 'value': 'http://commons.wikimedia.org/wiki/Special:FilePath/Lucas%20Cranach%20d.%20%C3%84.%20-%20Portrait%20of%20Frau%20Reuss%20-%20WGA05677.jpg'}}\n",
      "{'item': {'type': 'uri', 'value': 'http://www.wikidata.org/entity/Q21595099'}, 'pic': {'type': 'uri', 'value': 'http://commons.wikimedia.org/wiki/Special:FilePath/Lucas%20Cranach%20d.%C3%84.%20-%20David%20und%20Bathseba%20%28Gem%C3%A4ldegalerie%2C%20Berlin%29.jpg'}}\n",
      "{'item': {'type': 'uri', 'value': 'http://www.wikidata.org/entity/Q21595548'}, 'pic': {'type': 'uri', 'value': 'http://commons.wikimedia.org/wiki/Special:FilePath/Lucas%20Cranach%20d.%C3%84.%20-%20Venus%20und%20Amor%20%28Gem%C3%A4ldegalerie%2C%20Berlin%29.jpg'}}\n",
      "{'item': {'type': 'uri', 'value': 'http://www.wikidata.org/entity/Q21614133'}, 'pic': {'type': 'uri', 'value': 'http://commons.wikimedia.org/wiki/Special:FilePath/Lucas%20Cranach%20d.%20%C3%84.%20-%20Adam%20and%20Eve%20-%20WGA05623.jpg'}}\n",
      "{'item': {'type': 'uri', 'value': 'http://www.wikidata.org/entity/Q21614134'}, 'pic': {'type': 'uri', 'value': 'http://commons.wikimedia.org/wiki/Special:FilePath/Lucas%20Cranach%20d.%C3%84.%20-%20Caritas%20%28Koninklijk%20Museum%20v.%20Schone%20Kunsten%20Antwerpen%29.jpg'}}\n",
      "{'item': {'type': 'uri', 'value': 'http://www.wikidata.org/entity/Q21623401'}, 'pic': {'type': 'uri', 'value': 'http://commons.wikimedia.org/wiki/Special:FilePath/Eva%2C%20Lucas%20Cranach%20I%2C%20%281528-1530%29%2C%20Koninklijk%20Museum%20voor%20Schone%20Kunsten%20Antwerpen%2C%205048.jpg'}}\n",
      "{'item': {'type': 'uri', 'value': 'http://www.wikidata.org/entity/Q21711494'}, 'pic': {'type': 'uri', 'value': 'http://commons.wikimedia.org/wiki/Special:FilePath/Lucas%20Cranach%20d.%20%C3%84.%20-%20Die%20Heilige%20Elizabeth%20mit%20Herzog%20Georg%20von%20Sachsen%20als%20Stifter.jpg'}}\n",
      "{'item': {'type': 'uri', 'value': 'http://www.wikidata.org/entity/Q21711495'}, 'pic': {'type': 'uri', 'value': 'http://commons.wikimedia.org/wiki/Special:FilePath/Lucas%20Cranach%20d.%20%C3%84.%20-%20Der%20Heilige%20Georg.jpg'}}\n",
      "{'item': {'type': 'uri', 'value': 'http://www.wikidata.org/entity/Q21711496'}, 'pic': {'type': 'uri', 'value': 'http://commons.wikimedia.org/wiki/Special:FilePath/Lucas%20Cranach%20d.%20%C3%84.%20-%20Die%20Heilige%20Anna%20mit%20Herzogin%20Barbara%20von%20Sachsen%20als%20Stifterin.jpg'}}\n",
      "{'item': {'type': 'uri', 'value': 'http://www.wikidata.org/entity/Q21711773'}, 'pic': {'type': 'uri', 'value': 'http://commons.wikimedia.org/wiki/Special:FilePath/Lucas%20Cranach%20%28I%29%20-%20Die%20Anbetung%20des%20Jesuskindes%20durch%20Johannes%20den%20T%C3%A4ufer.jpg'}}\n"
     ]
    }
   ],
   "source": [
    "# pip install sparqlwrapper\n",
    "# https://rdflib.github.io/sparqlwrapper/\n",
    "\n",
    "import sys\n",
    "from SPARQLWrapper import SPARQLWrapper, JSON\n",
    "\n",
    "# query link - https://w.wiki/6YJi based on https://www.wikidata.org/wiki/Wikidata:SPARQL_query_service/queries/examples#Paintings_by_Gustav_Klimt\n",
    "\n",
    "endpoint_url = \"https://query.wikidata.org/sparql\"\n",
    "\n",
    "query = \"\"\"#defaultView:ImageGrid\n",
    "SELECT * WHERE {\n",
    "  ?item wdt:P31 wd:Q3305213;\n",
    "    wdt:P170 wd:Q191748;\n",
    "    wdt:P18 ?pic.\n",
    "}\n",
    "LIMIT 22\"\"\"\n",
    "\n",
    "\n",
    "def get_results(endpoint_url, query):\n",
    "    user_agent = \"WDQS-example Python/%s.%s\" % (sys.version_info[0], sys.version_info[1])\n",
    "    # TODO adjust user agent; see https://w.wiki/CX6\n",
    "    sparql = SPARQLWrapper(endpoint_url, agent=user_agent)\n",
    "    sparql.setQuery(query)\n",
    "    sparql.setReturnFormat(JSON)\n",
    "    return sparql.query().convert()\n",
    "\n",
    "\n",
    "results = get_results(endpoint_url, query)\n",
    "\n",
    "for result in results[\"results\"][\"bindings\"]:\n",
    "    print(result)\n"
   ]
  }
 ],
 "metadata": {
  "kernelspec": {
   "display_name": "Python 3",
   "language": "python",
   "name": "python3"
  },
  "language_info": {
   "codemirror_mode": {
    "name": "ipython",
    "version": 3
   },
   "file_extension": ".py",
   "mimetype": "text/x-python",
   "name": "python",
   "nbconvert_exporter": "python",
   "pygments_lexer": "ipython3",
   "version": "3.9.5"
  },
  "orig_nbformat": 4,
  "vscode": {
   "interpreter": {
    "hash": "4f95cac2866d48a154725f15da66ad3889a01053732bcd1fedad154961939282"
   }
  }
 },
 "nbformat": 4,
 "nbformat_minor": 2
}
